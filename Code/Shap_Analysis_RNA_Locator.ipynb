{
 "cells": [
  {
   "cell_type": "code",
   "execution_count": null,
   "id": "8c0efee0-e06f-489a-b455-d02b0d40e6d6",
   "metadata": {},
   "outputs": [],
   "source": [
    "import numpy as np\n",
    "import pandas as pd\n",
    "from sklearn.preprocessing import StandardScaler\n",
    "from sklearn.model_selection import train_test_split\n",
    "from sklearn.decomposition import PCA\n",
    "from sklearn.manifold import TSNE\n",
    "%matplotlib inline\n",
    "import matplotlib.pyplot as plt\n",
    "from mpl_toolkits.mplot3d import Axes3D\n",
    "import seaborn as sns\n",
    "from sklearn.tree import DecisionTreeClassifier, export_graphviz\n",
    "import graphviz\n",
    "sns.set_style('darkgrid') \n",
    "\n",
    "GLOBAL_SEED = 42"
   ]
  },
  {
   "cell_type": "code",
   "execution_count": null,
   "id": "5715ef36-dee4-4344-8fae-fa41fa3621ae",
   "metadata": {},
   "outputs": [],
   "source": [
    "# @title Installing SHAP\n",
    "try:\n",
    "  import shap\n",
    "except:\n",
    "  print(\"Installing SHAP\")\n",
    "  !pip install shap"
   ]
  },
  {
   "cell_type": "code",
   "execution_count": null,
   "id": "5b8c7adc-40da-4e40-86d3-36a2ecfe5e00",
   "metadata": {},
   "outputs": [],
   "source": [
    "\n",
    "Localization = [\"Mitochondria\"]"
   ]
  },
  {
   "cell_type": "code",
   "execution_count": null,
   "id": "6c5ad93f-88a3-4a9b-ba60-6f6fea98400f",
   "metadata": {},
   "outputs": [],
   "source": [
    "\n",
    "loc=0\n",
    "print(\"==============================================================\")\n",
    "print(\"Data set is\", Localization[loc])\n",
    "print(\"==============================================================\")\n",
    "\n",
    "df = pd.read_csv(\"./train/Mitochondria_all_fea_ovr_dataset.csv\")\n",
    "df[\"label\"]  = df[\"label\"].replace({Localization[loc]:1, \"AllRest\":0})\n",
    "X = df.drop([\"SampleName\",\"label\"], axis=1)\n",
    "y = df[\"label\"]\n",
    "X_train, X_test, y_train, y_test = train_test_split(X, y, test_size=0.2, random_state=1, shuffle=True)\n",
    "model = DecisionTreeClassifier(random_state=GLOBAL_SEED, min_samples_split=2)\n",
    "# train the model data - trining dataset\n",
    "model.fit(X_train, y_train)\n",
    "\n",
    "# Visualize how model classified the entire data\n",
    "#tree_graph = export_graphviz(model, out_file=None, feature_names = X_train.columns, rounded=True, filled=True)\n",
    "#graphviz.Source(tree_graph)"
   ]
  },
  {
   "cell_type": "code",
   "execution_count": null,
   "id": "bedf6a29-330b-45d6-930b-f09391a9f6d7",
   "metadata": {},
   "outputs": [],
   "source": [
    "# Initialize JavaScript visualizations in notebook environment\n",
    "shap.initjs()\n",
    "# Define a tree explainer for the built model\n",
    "explainer = shap.TreeExplainer(model)\n",
    "# obtain shap values for the first row of the test data\n",
    "#shap_values = explainer.shap_values(X_test.iloc[0])\n",
    "# obtain shap values for the test data\n",
    "shap_values = explainer.shap_values(X_test)\n",
    "#shap.summary_plot(shap_values[1], X_test, plot_type='bar', max_display=20)\n",
    "shap.summary_plot(shap_values[1], X_test)\n",
    "#shap.summary_plot(shap_values[1], X_test, plot_type='violin')\n",
    "feature_names = X_test.columns\n",
    "vals= np.abs(shap_values).mean(0)\n",
    "feature_importance = pd.DataFrame(list(zip(feature_names, sum(vals))), columns=['col_name','feature_importance_vals'])\n",
    "feature_importance.sort_values(by=['feature_importance_vals'], ascending=False,inplace=True)\n",
    "print(feature_importance.head(20))\n",
    "print()\n",
    "print(\"==================================================\")\n"
   ]
  }
 ],
 "metadata": {
  "kernelspec": {
   "display_name": "Python 3 (ipykernel)",
   "language": "python",
   "name": "python3"
  },
  "language_info": {
   "codemirror_mode": {
    "name": "ipython",
    "version": 3
   },
   "file_extension": ".py",
   "mimetype": "text/x-python",
   "name": "python",
   "nbconvert_exporter": "python",
   "pygments_lexer": "ipython3",
   "version": "3.9.12"
  }
 },
 "nbformat": 4,
 "nbformat_minor": 5
}
